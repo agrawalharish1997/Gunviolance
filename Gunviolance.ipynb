{
  "nbformat": 4,
  "nbformat_minor": 0,
  "metadata": {
    "colab": {
      "name": "Gunviolance.ipynb",
      "provenance": [],
      "authorship_tag": "ABX9TyMTagfgQJ7rO2WBUJuzW5G+",
      "include_colab_link": true
    },
    "kernelspec": {
      "name": "python3",
      "display_name": "Python 3"
    }
  },
  "cells": [
    {
      "cell_type": "markdown",
      "metadata": {
        "id": "view-in-github",
        "colab_type": "text"
      },
      "source": [
        "<a href=\"https://colab.research.google.com/github/agrawalharish1997/Gunviolance/blob/master/Gunviolance.ipynb\" target=\"_parent\"><img src=\"https://colab.research.google.com/assets/colab-badge.svg\" alt=\"Open In Colab\"/></a>"
      ]
    },
    {
      "cell_type": "code",
      "metadata": {
        "id": "eN-Tzz3i6WA3",
        "colab_type": "code",
        "colab": {}
      },
      "source": [
        "import pandas as pd \n",
        "import numpy as np\n"
      ],
      "execution_count": 0,
      "outputs": []
    },
    {
      "cell_type": "code",
      "metadata": {
        "id": "qparfNsHAZvE",
        "colab_type": "code",
        "outputId": "f242db70-c930-4cd8-8c8a-d79f5c6dbd51",
        "colab": {
          "base_uri": "https://localhost:8080/",
          "height": 233
        }
      },
      "source": [
        "data=pd.read_csv('GunviolenceSA.csv')\n",
        "data.head(2)"
      ],
      "execution_count": 0,
      "outputs": [
        {
          "output_type": "execute_result",
          "data": {
            "text/html": [
              "<div>\n",
              "<style scoped>\n",
              "    .dataframe tbody tr th:only-of-type {\n",
              "        vertical-align: middle;\n",
              "    }\n",
              "\n",
              "    .dataframe tbody tr th {\n",
              "        vertical-align: top;\n",
              "    }\n",
              "\n",
              "    .dataframe thead th {\n",
              "        text-align: right;\n",
              "    }\n",
              "</style>\n",
              "<table border=\"1\" class=\"dataframe\">\n",
              "  <thead>\n",
              "    <tr style=\"text-align: right;\">\n",
              "      <th></th>\n",
              "      <th>Incident Date</th>\n",
              "      <th>State</th>\n",
              "      <th>City Or County</th>\n",
              "      <th>Address</th>\n",
              "      <th>Latitude</th>\n",
              "      <th>Longitude</th>\n",
              "      <th>Killed</th>\n",
              "      <th>Injured</th>\n",
              "      <th>featureID</th>\n",
              "      <th>URL</th>\n",
              "    </tr>\n",
              "  </thead>\n",
              "  <tbody>\n",
              "    <tr>\n",
              "      <th>0</th>\n",
              "      <td>24-Jun-18</td>\n",
              "      <td>Texas</td>\n",
              "      <td>San Antonio</td>\n",
              "      <td>NW Loop 410</td>\n",
              "      <td>29.520896</td>\n",
              "      <td>-98.496834</td>\n",
              "      <td>0</td>\n",
              "      <td>0</td>\n",
              "      <td>149084</td>\n",
              "      <td>http://www.gunviolencearchive.org/incident/114...</td>\n",
              "    </tr>\n",
              "    <tr>\n",
              "      <th>1</th>\n",
              "      <td>24-Jun-18</td>\n",
              "      <td>Texas</td>\n",
              "      <td>San Antonio</td>\n",
              "      <td>222 N New Braunfels Ave</td>\n",
              "      <td>29.422051</td>\n",
              "      <td>-98.460863</td>\n",
              "      <td>1</td>\n",
              "      <td>0</td>\n",
              "      <td>149008</td>\n",
              "      <td>http://www.gunviolencearchive.org/incident/114...</td>\n",
              "    </tr>\n",
              "  </tbody>\n",
              "</table>\n",
              "</div>"
            ],
            "text/plain": [
              "  Incident Date  ...                                                URL\n",
              "0     24-Jun-18  ...  http://www.gunviolencearchive.org/incident/114...\n",
              "1     24-Jun-18  ...  http://www.gunviolencearchive.org/incident/114...\n",
              "\n",
              "[2 rows x 10 columns]"
            ]
          },
          "metadata": {
            "tags": []
          },
          "execution_count": 15
        }
      ]
    },
    {
      "cell_type": "code",
      "metadata": {
        "id": "41WRSKyWAzAL",
        "colab_type": "code",
        "colab": {}
      },
      "source": [
        "jun=0\n",
        "may=0\n",
        "\n",
        "\n"
      ],
      "execution_count": 0,
      "outputs": []
    },
    {
      "cell_type": "code",
      "metadata": {
        "id": "pJ-g8erMWrmG",
        "colab_type": "code",
        "colab": {}
      },
      "source": [
        "data['Incident Date']=pd.to_datetime(data['Incident Date'])\n",
        "data['month']=data['Incident Date'].dt.month"
      ],
      "execution_count": 0,
      "outputs": []
    },
    {
      "cell_type": "code",
      "metadata": {
        "id": "LzlA4Xi2X8SN",
        "colab_type": "code",
        "colab": {}
      },
      "source": [
        "for ind in data.index:\n",
        "  if(data['month'][ind]==6):\n",
        "    jun=jun+data['Killed'][ind]+data['Injured'][ind]\n",
        "  else:\n",
        "    may=may+data['Killed'][ind]+data['Injured'][ind]\n"
      ],
      "execution_count": 0,
      "outputs": []
    },
    {
      "cell_type": "code",
      "metadata": {
        "id": "Y5X93NoiZl03",
        "colab_type": "code",
        "outputId": "05882404-8c08-4709-e089-c43ac6753d3d",
        "colab": {
          "base_uri": "https://localhost:8080/",
          "height": 51
        }
      },
      "source": [
        "print(may)\n",
        "print(jun)"
      ],
      "execution_count": 0,
      "outputs": [
        {
          "output_type": "stream",
          "text": [
            "35\n",
            "21\n"
          ],
          "name": "stdout"
        }
      ]
    },
    {
      "cell_type": "code",
      "metadata": {
        "id": "9GPWaG-IYhgi",
        "colab_type": "code",
        "outputId": "7aa7a1a5-852f-4ee2-cdf3-eddab8bc39ff",
        "colab": {
          "base_uri": "https://localhost:8080/",
          "height": 34
        }
      },
      "source": [
        "if(may>jun):\n",
        "  print('Highest Killed and Injured occurin month may =',may)\n",
        "else:\n",
        "  print('Highest Killed and Injured occurin month jun =',jun)\n"
      ],
      "execution_count": 0,
      "outputs": [
        {
          "output_type": "stream",
          "text": [
            "Highest Killed and Injured occurin month may = 35\n"
          ],
          "name": "stdout"
        }
      ]
    }
  ]
}